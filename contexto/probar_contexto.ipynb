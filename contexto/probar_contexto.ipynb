{
 "cells": [
  {
   "cell_type": "markdown",
   "id": "9995ed9d",
   "metadata": {},
   "source": [
    "## preparar cosas"
   ]
  },
  {
   "cell_type": "code",
   "execution_count": null,
   "id": "bd65a71a",
   "metadata": {},
   "outputs": [
    {
     "name": "stderr",
     "output_type": "stream",
     "text": [
      "/home/camila/anaconda3/envs/NLP/lib/python3.11/site-packages/tqdm/auto.py:21: TqdmWarning: IProgress not found. Please update jupyter and ipywidgets. See https://ipywidgets.readthedocs.io/en/stable/user_install.html\n",
      "  from .autonotebook import tqdm as notebook_tqdm\n"
     ]
    }
   ],
   "source": [
    "from sentence_transformers import SentenceTransformer\n",
    "import numpy as np\n",
    "from sklearn.metrics.pairwise import cosine_similarity\n",
    "from tqdm import tqdm\n",
    "import pandas as pd"
   ]
  },
  {
   "cell_type": "code",
   "execution_count": 8,
   "id": "02f00711",
   "metadata": {},
   "outputs": [],
   "source": [
    "# Lista de modelos a comparar\n",
    "models_info = {\n",
    "    \"e5-large-v2\": \"intfloat/e5-large-v2\",\n",
    "    \"gte-base\": \"thenlper/gte-base\",\n",
    "    \"miniLM-L6-v2\": \"sentence-transformers/all-MiniLM-L6-v2\",\n",
    "    \"mpnet-base-v2\": \"sentence-transformers/all-mpnet-base-v2\",\n",
    "    \"bge-base-en-v1.5\": \"BAAI/bge-base-en-v1.5\"\n",
    "}"
   ]
  },
  {
   "cell_type": "code",
   "execution_count": 9,
   "id": "32cdb4c8",
   "metadata": {},
   "outputs": [
    {
     "name": "stdout",
     "output_type": "stream",
     "text": [
      "Cargando modelo: e5-large-v2\n",
      "Cargando modelo: gte-base\n",
      "Cargando modelo: miniLM-L6-v2\n"
     ]
    },
    {
     "name": "stderr",
     "output_type": "stream",
     "text": [
      "Xet Storage is enabled for this repo, but the 'hf_xet' package is not installed. Falling back to regular HTTP download. For better performance, install the package with: `pip install huggingface_hub[hf_xet]` or `pip install hf_xet`\n"
     ]
    },
    {
     "name": "stdout",
     "output_type": "stream",
     "text": [
      "Cargando modelo: mpnet-base-v2\n"
     ]
    },
    {
     "name": "stderr",
     "output_type": "stream",
     "text": [
      "Xet Storage is enabled for this repo, but the 'hf_xet' package is not installed. Falling back to regular HTTP download. For better performance, install the package with: `pip install huggingface_hub[hf_xet]` or `pip install hf_xet`\n"
     ]
    },
    {
     "name": "stdout",
     "output_type": "stream",
     "text": [
      "Cargando modelo: bge-base-en-v1.5\n"
     ]
    }
   ],
   "source": [
    "# actualizar models_info con los modelos cargados\n",
    "for model_name, model_path in models_info.items():\n",
    "    print(f\"Cargando modelo: {model_name}\")\n",
    "    models_info[model_name] = SentenceTransformer(model_path)"
   ]
  },
  {
   "cell_type": "code",
   "execution_count": 10,
   "id": "e8695482",
   "metadata": {},
   "outputs": [],
   "source": [
    "df = pd.read_csv(\"dataset_genius.csv\")\n",
    "sample_texts = df['lyrics'].sample(50000, random_state=42).tolist()"
   ]
  },
  {
   "cell_type": "markdown",
   "id": "cb3702cc",
   "metadata": {},
   "source": [
    "## armar samples (no correr)"
   ]
  },
  {
   "cell_type": "code",
   "execution_count": null,
   "id": "dc539a86",
   "metadata": {},
   "outputs": [
    {
     "name": "stdout",
     "output_type": "stream",
     "text": [
      "Son 50000 muestras de prueba\n",
      "\n",
      "🔄 Generando embeddings para el modelo: e5-large-v2\n"
     ]
    },
    {
     "name": "stderr",
     "output_type": "stream",
     "text": [
      "Batches: 100%|██████████| 782/782 [30:10<00:00,  2.32s/it]\n"
     ]
    },
    {
     "name": "stdout",
     "output_type": "stream",
     "text": [
      "\n",
      "🔄 Generando embeddings para el modelo: gte-base\n"
     ]
    },
    {
     "name": "stderr",
     "output_type": "stream",
     "text": [
      "Batches: 100%|██████████| 391/391 [10:36<00:00,  1.63s/it]\n"
     ]
    },
    {
     "name": "stdout",
     "output_type": "stream",
     "text": [
      "\n",
      "🔄 Generando embeddings para el modelo: miniLM-L6-v2\n"
     ]
    },
    {
     "name": "stderr",
     "output_type": "stream",
     "text": [
      "Batches: 100%|██████████| 196/196 [01:18<00:00,  2.51it/s]\n"
     ]
    },
    {
     "name": "stdout",
     "output_type": "stream",
     "text": [
      "\n",
      "🔄 Generando embeddings para el modelo: mpnet-base-v2\n"
     ]
    },
    {
     "name": "stderr",
     "output_type": "stream",
     "text": [
      "Batches: 100%|██████████| 782/782 [09:23<00:00,  1.39it/s]\n"
     ]
    },
    {
     "name": "stdout",
     "output_type": "stream",
     "text": [
      "\n",
      "🔄 Generando embeddings para el modelo: bge-base-en-v1.5\n"
     ]
    },
    {
     "name": "stderr",
     "output_type": "stream",
     "text": [
      "Batches: 100%|██████████| 782/782 [09:29<00:00,  1.37it/s]\n"
     ]
    }
   ],
   "source": [
    "# from sentence_transformers import SentenceTransformer\n",
    "# import numpy as np\n",
    "# import os\n",
    "# import torch\n",
    "\n",
    "# # Carpeta para guardar los resultados\n",
    "# EMBEDDINGS_DIR = \"model_embeddings\"\n",
    "# os.makedirs(EMBEDDINGS_DIR, exist_ok=True)\n",
    "\n",
    "# print(f\"Son {len(sample_texts)} muestras de prueba\")\n",
    "\n",
    "# # Elegir dispositivo automáticamente\n",
    "# DEVICE = \"cuda\" if torch.cuda.is_available() else \"cpu\"\n",
    "\n",
    "# # Recomendaciones de batch size por modelo\n",
    "# batch_sizes = {\n",
    "#     \"miniLM-L6-v2\": 256,\n",
    "#     \"gte-base\": 128,\n",
    "#     \"e5-large-v2\": 64\n",
    "# }\n",
    "\n",
    "# # Generar y guardar embeddings\n",
    "# for model_name, model in models_info.items():\n",
    "#     print(f\"\\n🔄 Generando embeddings para el modelo: {model_name}\")\n",
    "\n",
    "#     # Batch size dinámico\n",
    "#     batch_size = batch_sizes.get(model_name, 64)\n",
    "\n",
    "#     # Generar embeddings del sample\n",
    "#     embeddings = model.encode(\n",
    "#         sample_texts,\n",
    "#         batch_size=batch_size,\n",
    "#         show_progress_bar=True,\n",
    "#         convert_to_numpy=True,\n",
    "#         device=DEVICE\n",
    "#     )\n",
    "\n",
    "#     np.save(f\"{EMBEDDINGS_DIR}/embeddings_{model_name}.npy\", embeddings)\n"
   ]
  },
  {
   "cell_type": "markdown",
   "id": "326ab325",
   "metadata": {},
   "source": [
    "## evaluar samples"
   ]
  },
  {
   "cell_type": "code",
   "execution_count": null,
   "id": "69fbc773",
   "metadata": {},
   "outputs": [],
   "source": [
    "\n",
    "# Textos de prueba representativos\n",
    "test_texts = [\n",
    "    \"I feel so bad, my dog just died\",\n",
    "    \"Feeling hopeful after a tough day\",\n",
    "    \"I just got bad news from a friend\",\n",
    "    \"Starting to feel excited for the weekend\"\n",
    "]"
   ]
  },
  {
   "cell_type": "code",
   "execution_count": 12,
   "id": "21a57782",
   "metadata": {},
   "outputs": [
    {
     "name": "stdout",
     "output_type": "stream",
     "text": [
      "Calculando similitud coseno para el modelo: e5-large-v2\n",
      "Texto de prueba: I feel so bad, my dog just died\n",
      "  Top 1: well i had an old dog and his name was blue yes i had an old dog and his name was blue well i had an old dog and his name was blue bet ya five dollars he s a good dog too old blue chased a possum up a holler limb blue chased a possum up a holler limb blue chased a possum up a holler limb the possum growled blue whined at him bye bye blue you good dog you bye bye blue you good dog you when old blue died he died so hard he shook the ground in my back yard we lowered him down with a golden chain and every link we called his name bye bye blue you good dog you bye bye blue you good dog you my old blue he was a good old hound you d hear him hollering miles around when i get to heaven first thing i ll do i ll grab my horn and call for blue bye bye blue you good dog you bye bye blue you good dog you (Similitud: 0.8134)\n",
      "  Top 2: i had a dog he was a mix he loved me like a god but i was just a kid the kind mother likes now i m big like the sky but i m downsized inside i ll lay this all to rest i m just a baby who looks like a boy i m getting all depressed i m just a baby who looks like a boy i got my father s sense and my big brother s pants and i look like a man and i feel like an ant just a speck on the ground growing like a weed a fleck of a seed i ll put my hand in flames i m just a baby who looks like a boy i feel like i m born again i m just a baby who looks like a boy yeah  i ll put this all to rest i m just a baby who looks like a boy i m getting all depressed i m just a baby who looks like a boy i m just a baby who looks like a boy yeah and i ll keep hanging from your hair and i ll keep playing in the sand just as long as i can (Similitud: 0.8089)\n",
      "  Top 3: hey hey hey hey baby hey hey hey hey hey baby hey i love you baby sure there is not going to be your dog hey hey hey hey baby hey hey hey hey hey baby hey my arms around you baby all i can say is hey hey hey you lost your good thing now hey hey you lost your good thing now you had me fooled i found it out somehow1 (Similitud: 0.8069)\n",
      "\n",
      "\n",
      "Calculando similitud coseno para el modelo: gte-base\n",
      "Texto de prueba: I feel so bad, my dog just died\n",
      "  Top 1: well i had an old dog and his name was blue yes i had an old dog and his name was blue well i had an old dog and his name was blue bet ya five dollars he s a good dog too old blue chased a possum up a holler limb blue chased a possum up a holler limb blue chased a possum up a holler limb the possum growled blue whined at him bye bye blue you good dog you bye bye blue you good dog you when old blue died he died so hard he shook the ground in my back yard we lowered him down with a golden chain and every link we called his name bye bye blue you good dog you bye bye blue you good dog you my old blue he was a good old hound you d hear him hollering miles around when i get to heaven first thing i ll do i ll grab my horn and call for blue bye bye blue you good dog you bye bye blue you good dog you (Similitud: 0.8448)\n",
      "  Top 2: the day squid s gerbil died he was d o a don t do it no doggy s not supposed to chase him around at all squid put the dog gate up so he couldn t get to the third floor but doggy pushed it down and chased the gerbil all around chased him in circles from noon until four don t do it no she had to take care of him during spring vacation came in from playing one day and he was dead on location a gerbil stiff as a board staring blankly at the world now he won t play on his wheel anymore licking sniffing pawing snorting pissing shitting jumping drooling growling chasing staring digging no means no means no the day squid s gerbil died he was d o a the day squid s gerbil died oh my god how she cried don t do it no a little later on in life came a gerbil couple they got together had some babies but then came trouble daddy gerbil bit their heads off squid came too late to pull him off more gerbil funerals without heads they would rot repeat no no no you re a bad bad dog and i told you not to do it and i told you not to go now you re choking on a bone  (Similitud: 0.8384)\n",
      "  Top 3: we drove by a vigil for a kid that died too young it was new year s week and in the spirit of we said live for east lake boy who crashed his car at night then i said something dumb like the redskins hate the cowboys cause kennedy died in dallas i used to feel guilt all of the time now i just feel guilt not feeling guilty enough (Similitud: 0.8365)\n",
      "\n",
      "\n",
      "Calculando similitud coseno para el modelo: miniLM-L6-v2\n",
      "Texto de prueba: I feel so bad, my dog just died\n",
      "  Top 1: do you think you could be the one to tell us what went wrong cause we dont see it like you do youre upon the ice its looking thin youre on the outside looking in you should be alright when they all stop falling will you be there will you be there when you hear them calling will you be there to pick them up will you be there lay down on your bed of roses and take the ship down from your shoulders youre upon the ice its looking thin youre on the outside looking in you should be alright when they all stop falling youll be nowhere to be seen you dont know where youre going but you know just where youve been and they say well every dog will have its day and it s coming round when they all stop falling will you be there will you be there when you hear them calling will you be there to pick them up will you be there  when they all stop falling will you be there will you be there when you hear them calling will you be there will you be there will you be there  (Similitud: 0.4790)\n",
      "  Top 2: down like a dog can t take it no more i m playing house the house is burning i want to see something in me i want to be a life worth saving you know that i can t sleep i ve been awake for weeks and someone s dying they sing a funeral song the celebration s on cause someone s dying stick of the pin our lives are over staying in line until we run out of time apologize for being alive apologize but why would you care down like a dog can t take it no more i m playing house the house is burning i want to see something in me i want to see your fucking funeral (Similitud: 0.4739)\n",
      "  Top 3: go i m still wondering how i could have said all the wrong things at the wrong time and how you managed to keep your head when i got way out of line these feelings of mine should have come sooner there s no way i can imagine your loss i ask myself how could you do this to her you re the last person i d ever cross and i hear your anger it s too late to take back what s been said it won t go away the morning after guilt s a parasite that leaves all dead and i break down yeah i want to die i can t because i know there s something more alone in the morning i start to cry in the end i feel worse than before as we sit outside so afraid to see him we wonder if he s better off now we can t face the pain of the mausoleum we can t be strong because we don t know how and we know he s right here next beside us the feelings in the air are all so tense we want so much more too much ain t enough why are we so afraid of his presence  mother looks to her husband in the eye our baby s gone they start to cry if you come back and its just for a day there s only three words we all want to say i love you  (Similitud: 0.4640)\n",
      "\n",
      "\n",
      "Calculando similitud coseno para el modelo: mpnet-base-v2\n",
      "Texto de prueba: I feel so bad, my dog just died\n",
      "  Top 1: well i had an old dog and his name was blue yes i had an old dog and his name was blue well i had an old dog and his name was blue bet ya five dollars he s a good dog too old blue chased a possum up a holler limb blue chased a possum up a holler limb blue chased a possum up a holler limb the possum growled blue whined at him bye bye blue you good dog you bye bye blue you good dog you when old blue died he died so hard he shook the ground in my back yard we lowered him down with a golden chain and every link we called his name bye bye blue you good dog you bye bye blue you good dog you my old blue he was a good old hound you d hear him hollering miles around when i get to heaven first thing i ll do i ll grab my horn and call for blue bye bye blue you good dog you bye bye blue you good dog you (Similitud: 0.5176)\n",
      "  Top 2: i was half asleep when i heard the news sad words on the phone i just couldnt believe my ears i couldnt believe shes gone i tried to make some sense of it but sense i could not make how a girl like her could go like that it must be some mistake well id known her since forever or as far back as i go she always had an answer for the things i didnt know she never hurt anybody never did them wrong she walked to the tune of life teaching everyone the song now emilys in heaven and im awake in bed sometimes how i wish the good lord took me instead but i guess the good die young and life just isnt fair but emilys in heaven shell be waiting for me there eleven different doctors and not one had a clue they rushed her to emergency but there was nothing they could do they said she had a weak heart shed always been that way i said she just gave too much of it away now emilys in heaven and im awake in bed sometimes how i wish the good lord took me instead but i guess the good die young and life just isnt fair but emilys in heaven shell be waiting for me there we laid her down for peaceful sleep time was standing still everybody said a prayer on top of moonlight hill i said goodbye with a rose how she loved them so then i turned away tried not to cry and did my best to go (Similitud: 0.4905)\n",
      "  Top 3: i ain t got no fire to light my cigarette i m just an old dog lookin for my midnight pet she lays out a matchstick and offers me the light i take a drag and blow smoke right in her eyes blow smoke right in her eyes poor doggie where s your bone poor doggie where s your bone poor doggie where s your bone poor doggie where s your bone you sure ain t an old dog you could learn some tricks show me you re a good dog show me you can beg maybe if you re real good i ll give you tasty treats show me desperation there s other dogs to meet there s other dogs to meet poor doggie where s your bone poor doggie where s your bone poor doggie where s your bone poor doggie where s your bone poor doggie where s your bone poor doggie where s your bone poor doggie where s your bone poor doggie where s your bone your leash is a short one roll over and play dead you re my pretty doggie i pat you on your head girl you been so good you sure do make me proud i won t turn you up but i will put you down i will put you down i will put you down there s other dogs to meet there s other dogs to meet ah ah ah ah (Similitud: 0.4741)\n",
      "\n",
      "\n",
      "Calculando similitud coseno para el modelo: bge-base-en-v1.5\n",
      "Texto de prueba: I feel so bad, my dog just died\n",
      "  Top 1: we drove by a vigil for a kid that died too young it was new year s week and in the spirit of we said live for east lake boy who crashed his car at night then i said something dumb like the redskins hate the cowboys cause kennedy died in dallas i used to feel guilt all of the time now i just feel guilt not feeling guilty enough (Similitud: 0.7021)\n",
      "  Top 2: i m feeling so tired can t understand it just had a fortnight s sleep i m feeling so stuffed i m so distracted ain t touched a thing all week i m feeling drunk juiced up and sloppy ain t touched a drink all night i m feeling hungry can t see the reason just had a horse meat pie say when you call my name i salivate like a pavlov dog yeah when you take me out my heart is beating louder than a big bass drum yeah you got to mix it you got to fix it must be love it s a bitch yeah you got to mix it you got to fix it must be love it s a bitch yeah sometimes i m sexy move like a stud kicking the stall all night sometimes i m so shy got to be worked on don t have no bark or bite alright say when you call my name i salivate like a pavlov dog yeah when you take me out my heart is beating louder than a big bass drum  i said hey hey hey hey hey yeah hey hey hey hey hey yeah hey hey hey hey hey yeah  (Similitud: 0.6649)\n",
      "  Top 3: i m feeling so tired can t understand it just had a fortnight s sleep i m feeling so stuffed i m so distracted ain t touched a thing all week i m feeling drunk juiced up and sloppy ain t touched a drink all night i m feeling hungry can t see the reason just had a horse meat pie say when you call my name i salivate like a pavlov dog yeah when you take me out my heart is beating louder than a big bass drum yeah you got to mix it you got to fix it must be love it s a bitch yeah you got to mix it you got to fix it must be love it s a bitch yeah sometimes i m sexy move like a stud kicking the stall all night sometimes i m so shy got to be worked on don t have no bark or bite alright say when you call my name i salivate like a pavlov dog yeah when you take me out my heart is beating louder than a big bass drum  i said hey hey hey hey hey yeah hey hey hey hey hey yeah hey hey hey hey hey yeah  (Similitud: 0.6649)\n",
      "\n",
      "\n"
     ]
    }
   ],
   "source": [
    "# para cada texto de prueba, calcular la similitud coseno con todos los textos de cada modelo\n",
    "# para cada modelo, devolver los 3 textos más similares a cada texto de prueba\n",
    "\n",
    "k_top = 3\n",
    "for model_name, model in models_info.items():\n",
    "    print(f\"Calculando similitud coseno para el modelo: {model_name}\")\n",
    "    embeddings = np.load(f\"model_embeddings/embeddings_{model_name}.npy\")\n",
    "\n",
    "    for test_text in test_texts:\n",
    "        test_embedding = model.encode([test_text], convert_to_numpy=True)\n",
    "        similarities = cosine_similarity(test_embedding, embeddings)[0]\n",
    "\n",
    "        # Obtener los índices de los 3 textos más similares\n",
    "        top_indices = np.argsort(similarities)[-k_top:][::-1]\n",
    "        top_similarities = similarities[top_indices]\n",
    "        top_texts = [sample_texts[i] for i in top_indices]\n",
    "\n",
    "        print(f\"Texto de prueba: {test_text}\")\n",
    "        for i, (text, sim) in enumerate(zip(top_texts, top_similarities)):\n",
    "            print(f\"  Top {i+1}: {text} (Similitud: {sim:.4f})\")\n",
    "    print(\"\\n\")  # Separar resultados por modelo"
   ]
  },
  {
   "cell_type": "markdown",
   "id": "08afcad5",
   "metadata": {},
   "source": [
    "### EVALUACIÓN"
   ]
  },
  {
   "cell_type": "markdown",
   "id": "b5bdd24f",
   "metadata": {},
   "source": [
    "Objetivo: medir qué modelo devuelve canciones más relevantes para distintos tipos de prompts\n",
    "(amor, ruptura, muerte de una mascota, celebración…).  Métrica: *precision@k* y *MRR* sobre una\n",
    "pequeña colección de prompts evaluados manual o semiautomáticamente.\n"
   ]
  }
 ],
 "metadata": {
  "kernelspec": {
   "display_name": "NLP",
   "language": "python",
   "name": "python3"
  },
  "language_info": {
   "codemirror_mode": {
    "name": "ipython",
    "version": 3
   },
   "file_extension": ".py",
   "mimetype": "text/x-python",
   "name": "python",
   "nbconvert_exporter": "python",
   "pygments_lexer": "ipython3",
   "version": "3.11.11"
  }
 },
 "nbformat": 4,
 "nbformat_minor": 5
}
