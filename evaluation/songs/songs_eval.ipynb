{
 "cells": [
  {
   "cell_type": "code",
   "execution_count": 1,
   "id": "cb62989b",
   "metadata": {},
   "outputs": [
    {
     "name": "stderr",
     "output_type": "stream",
     "text": [
      "c:\\Users\\Lucio\\Documents\\entornos\\env3\\Lib\\site-packages\\tqdm\\auto.py:21: TqdmWarning: IProgress not found. Please update jupyter and ipywidgets. See https://ipywidgets.readthedocs.io/en/stable/user_install.html\n",
      "  from .autonotebook import tqdm as notebook_tqdm\n"
     ]
    }
   ],
   "source": [
    "import pandas as pd\n",
    "import matplotlib.pyplot as plt\n",
    "import os\n",
    "import sys\n",
    "\n",
    "\n",
    "notebook_dir = os.getcwd()  \n",
    "\n",
    "emotions_dir   = os.path.abspath(os.path.join(notebook_dir, \"..\", \"..\", \"emotions\"))\n",
    "\n",
    "context_dir = os.path.abspath(os.path.join(notebook_dir, \"..\", \"..\", \"context\"))\n",
    "\n",
    "evaluation_dir = os.path.abspath(os.path.join(notebook_dir, \"..\"))\n",
    "\n",
    "sentiment_evaluation_dir = os.path.join(evaluation_dir, \"sentiment\")\n",
    "\n",
    "for d in (emotions_dir, context_dir, evaluation_dir, sentiment_evaluation_dir):\n",
    "    if d not in sys.path:\n",
    "        sys.path.insert(0, d)\n",
    "\n",
    "from song_evaluator import run_evaluation\n",
    "from emotions import emotions_labels\n",
    "from context import get_context_embedding\n",
    "from utils import get_emotional_embedding, get_lyrics"
   ]
  },
  {
   "cell_type": "code",
   "execution_count": 2,
   "id": "331cb8a7",
   "metadata": {},
   "outputs": [],
   "source": [
    "RESULTS_STORAGE_PATH = \"songs_results\"\n",
    "CSV_PROMPTS_PATH = \"../sentiment/eval_prompts.csv\"\n",
    "IDX = {lbl: i for i, lbl in enumerate(emotions_labels)}"
   ]
  },
  {
   "cell_type": "markdown",
   "id": "8a741df1",
   "metadata": {},
   "source": [
    "## Recomend songs"
   ]
  },
  {
   "cell_type": "code",
   "execution_count": 3,
   "id": "16220162",
   "metadata": {},
   "outputs": [
    {
     "name": "stdout",
     "output_type": "stream",
     "text": [
      "                                                text       label  \\\n",
      "0  Watching my teammate stay late to coach the in...  admiration   \n",
      "1  That clip of a golden retriever chasing bubble...   amusement   \n",
      "2  The courier dumped my brand-new keyboard in a ...       anger   \n",
      "3  The elevator keeps dinging on every floor even...   annoyance   \n",
      "4  My colleague refactored the legacy code and no...    approval   \n",
      "\n",
      "                                emotional_embeddings  \\\n",
      "0  [1.0743394, -6.483197, -6.709549, -5.0575614, ...   \n",
      "1  [-4.153978, 1.2321672, -6.8980556, -5.5653696,...   \n",
      "2  [-6.477596, -6.34222, -1.65582, -0.8595148, -4...   \n",
      "3  [-5.5997, -6.7305875, -4.8331213, -1.1109929, ...   \n",
      "4  [-3.7546933, -6.8430514, -7.565738, -5.4406056...   \n",
      "\n",
      "                                  context_embeddings  \n",
      "0  [0.00015752304, 0.015988145, -0.02959476, -0.0...  \n",
      "1  [0.0032863289, 0.028587582, -0.014912383, 0.02...  \n",
      "2  [0.012090489, 0.039330203, 0.021434383, 0.0222...  \n",
      "3  [-0.0064753937, 0.03992142, -0.016815772, 0.01...  \n",
      "4  [0.012908027, 0.014667008, -0.009673152, 0.004...  \n"
     ]
    }
   ],
   "source": [
    "df = pd.read_csv(CSV_PROMPTS_PATH)\n",
    "\n",
    "df[\"emotional_embeddings\"] = df[\"text\"].apply(get_emotional_embedding)\n",
    "df[\"context_embeddings\"] = df[\"text\"].apply(get_context_embedding)\n",
    "print(df.head())"
   ]
  },
  {
   "cell_type": "code",
   "execution_count": 4,
   "id": "5563b043",
   "metadata": {},
   "outputs": [],
   "source": [
    "df[\"lyrics_predictions\"] = df.apply(\n",
    "    lambda row: get_lyrics(\n",
    "        row[\"emotional_embeddings\"],\n",
    "        row[\"context_embeddings\"],\n",
    "        weight_emotion=0.4,\n",
    "        weight_context=0.6,\n",
    "    ),\n",
    "    axis=1,\n",
    ")"
   ]
  },
  {
   "cell_type": "code",
   "execution_count": 5,
   "id": "40562de7",
   "metadata": {},
   "outputs": [],
   "source": [
    "df[[\"text\", \"lyrics_predictions\"]].to_csv(os.path.join(RESULTS_STORAGE_PATH, \"lyrics_predictions.csv\"), index=False)"
   ]
  },
  {
   "cell_type": "markdown",
   "id": "2e5939c8",
   "metadata": {},
   "source": [
    "## Evaluator"
   ]
  },
  {
   "cell_type": "code",
   "execution_count": 6,
   "id": "f684eccf",
   "metadata": {},
   "outputs": [],
   "source": [
    "path = os.path.join(RESULTS_STORAGE_PATH, \"lyrics_predictions.csv\")\n",
    "df = pd.read_csv(path)"
   ]
  },
  {
   "cell_type": "code",
   "execution_count": 7,
   "id": "84e2b6c5",
   "metadata": {},
   "outputs": [],
   "source": [
    "evaluated_df = await run_evaluation(df)\n",
    "evaluated_df.to_csv(os.path.join(RESULTS_STORAGE_PATH, \"evaluated_lyrics_predictions.csv\"), index=False)"
   ]
  },
  {
   "cell_type": "markdown",
   "id": "a845d716",
   "metadata": {},
   "source": [
    "## Evaluation"
   ]
  },
  {
   "cell_type": "code",
   "execution_count": 8,
   "id": "ddfecb05",
   "metadata": {},
   "outputs": [],
   "source": [
    "path = os.path.join(RESULTS_STORAGE_PATH,  \"evaluated_lyrics_predictions.csv\")\n",
    "df = pd.read_csv(path)"
   ]
  },
  {
   "cell_type": "code",
   "execution_count": 9,
   "id": "0adb97d8",
   "metadata": {},
   "outputs": [
    {
     "name": "stdout",
     "output_type": "stream",
     "text": [
      "Filtered songs:  9\n",
      "Not filtered songs:  99\n"
     ]
    }
   ],
   "source": [
    "#Hay canciones que pueden no ser evaluadas por el filtro de contenido de OpenAI.\n",
    "df_filtered = df[df[\"rationale\"].str.contains(\"The song was filtered out by the content filter\")]\n",
    "df_not_filtered = df[~df[\"rationale\"].str.contains(\"The song was filtered out by the content filter\")]\n",
    "\n",
    "print(\"Filtered songs: \", len(df_filtered))\n",
    "print(\"Not filtered songs: \", len(df_not_filtered))"
   ]
  },
  {
   "cell_type": "code",
   "execution_count": 10,
   "id": "85e2846f",
   "metadata": {},
   "outputs": [
    {
     "data": {
      "text/html": [
       "<div>\n",
       "<style scoped>\n",
       "    .dataframe tbody tr th:only-of-type {\n",
       "        vertical-align: middle;\n",
       "    }\n",
       "\n",
       "    .dataframe tbody tr th {\n",
       "        vertical-align: top;\n",
       "    }\n",
       "\n",
       "    .dataframe thead th {\n",
       "        text-align: right;\n",
       "    }\n",
       "</style>\n",
       "<table border=\"1\" class=\"dataframe\">\n",
       "  <thead>\n",
       "    <tr style=\"text-align: right;\">\n",
       "      <th></th>\n",
       "      <th>emotional</th>\n",
       "      <th>contextual</th>\n",
       "      <th>coherence</th>\n",
       "      <th>overall</th>\n",
       "    </tr>\n",
       "  </thead>\n",
       "  <tbody>\n",
       "    <tr>\n",
       "      <th>count</th>\n",
       "      <td>99.00</td>\n",
       "      <td>99.00</td>\n",
       "      <td>99.00</td>\n",
       "      <td>99.00</td>\n",
       "    </tr>\n",
       "    <tr>\n",
       "      <th>mean</th>\n",
       "      <td>2.59</td>\n",
       "      <td>1.99</td>\n",
       "      <td>2.37</td>\n",
       "      <td>2.26</td>\n",
       "    </tr>\n",
       "    <tr>\n",
       "      <th>std</th>\n",
       "      <td>1.44</td>\n",
       "      <td>1.37</td>\n",
       "      <td>1.15</td>\n",
       "      <td>1.22</td>\n",
       "    </tr>\n",
       "    <tr>\n",
       "      <th>min</th>\n",
       "      <td>0.00</td>\n",
       "      <td>0.00</td>\n",
       "      <td>0.00</td>\n",
       "      <td>0.00</td>\n",
       "    </tr>\n",
       "    <tr>\n",
       "      <th>25%</th>\n",
       "      <td>1.00</td>\n",
       "      <td>1.00</td>\n",
       "      <td>2.00</td>\n",
       "      <td>1.33</td>\n",
       "    </tr>\n",
       "    <tr>\n",
       "      <th>50%</th>\n",
       "      <td>2.00</td>\n",
       "      <td>2.00</td>\n",
       "      <td>2.00</td>\n",
       "      <td>2.00</td>\n",
       "    </tr>\n",
       "    <tr>\n",
       "      <th>75%</th>\n",
       "      <td>4.00</td>\n",
       "      <td>3.00</td>\n",
       "      <td>3.00</td>\n",
       "      <td>3.00</td>\n",
       "    </tr>\n",
       "    <tr>\n",
       "      <th>max</th>\n",
       "      <td>5.00</td>\n",
       "      <td>5.00</td>\n",
       "      <td>5.00</td>\n",
       "      <td>5.00</td>\n",
       "    </tr>\n",
       "  </tbody>\n",
       "</table>\n",
       "</div>"
      ],
      "text/plain": [
       "       emotional  contextual  coherence  overall\n",
       "count      99.00       99.00      99.00    99.00\n",
       "mean        2.59        1.99       2.37     2.26\n",
       "std         1.44        1.37       1.15     1.22\n",
       "min         0.00        0.00       0.00     0.00\n",
       "25%         1.00        1.00       2.00     1.33\n",
       "50%         2.00        2.00       2.00     2.00\n",
       "75%         4.00        3.00       3.00     3.00\n",
       "max         5.00        5.00       5.00     5.00"
      ]
     },
     "metadata": {},
     "output_type": "display_data"
    },
    {
     "data": {
      "image/png": "[encoded data removed]",
      "text/plain": [
       "<Figure size 1000x400 with 2 Axes>"
      ]
     },
     "metadata": {},
     "output_type": "display_data"
    },
    {
     "data": {
      "text/html": [
       "<div>\n",
       "<style scoped>\n",
       "    .dataframe tbody tr th:only-of-type {\n",
       "        vertical-align: middle;\n",
       "    }\n",
       "\n",
       "    .dataframe tbody tr th {\n",
       "        vertical-align: top;\n",
       "    }\n",
       "\n",
       "    .dataframe thead th {\n",
       "        text-align: right;\n",
       "    }\n",
       "</style>\n",
       "<table border=\"1\" class=\"dataframe\">\n",
       "  <thead>\n",
       "    <tr style=\"text-align: right;\">\n",
       "      <th></th>\n",
       "      <th>text</th>\n",
       "      <th>lyrics_predictions</th>\n",
       "      <th>score</th>\n",
       "    </tr>\n",
       "  </thead>\n",
       "  <tbody>\n",
       "    <tr>\n",
       "      <th>20</th>\n",
       "      <td>The sky finally cleared after days of rain—fee...</td>\n",
       "      <td>i can see clearly now the rain has gone i can ...</td>\n",
       "      <td>5.0</td>\n",
       "    </tr>\n",
       "    <tr>\n",
       "      <th>96</th>\n",
       "      <td>I’ve been reflecting lately, and I just feel r...</td>\n",
       "      <td>i m grateful that now i can see that i am a pa...</td>\n",
       "      <td>4.7</td>\n",
       "    </tr>\n",
       "    <tr>\n",
       "      <th>34</th>\n",
       "      <td>Saw a clip of glowing plankton beaches and now...</td>\n",
       "      <td>i want to be on an island off the coast of mex...</td>\n",
       "      <td>4.3</td>\n",
       "    </tr>\n",
       "    <tr>\n",
       "      <th>23</th>\n",
       "      <td>The vet said the tests are normal—I can finall...</td>\n",
       "      <td>finally i feel calm anxiety disappeared there ...</td>\n",
       "      <td>4.3</td>\n",
       "    </tr>\n",
       "    <tr>\n",
       "      <th>76</th>\n",
       "      <td>I just found an old photo of my childhood home...</td>\n",
       "      <td>there s an old kodak camera in my dresser draw...</td>\n",
       "      <td>4.3</td>\n",
       "    </tr>\n",
       "  </tbody>\n",
       "</table>\n",
       "</div>"
      ],
      "text/plain": [
       "                                                 text  \\\n",
       "20  The sky finally cleared after days of rain—fee...   \n",
       "96  I’ve been reflecting lately, and I just feel r...   \n",
       "34  Saw a clip of glowing plankton beaches and now...   \n",
       "23  The vet said the tests are normal—I can finall...   \n",
       "76  I just found an old photo of my childhood home...   \n",
       "\n",
       "                                   lyrics_predictions  score  \n",
       "20  i can see clearly now the rain has gone i can ...    5.0  \n",
       "96  i m grateful that now i can see that i am a pa...    4.7  \n",
       "34  i want to be on an island off the coast of mex...    4.3  \n",
       "23  finally i feel calm anxiety disappeared there ...    4.3  \n",
       "76  there s an old kodak camera in my dresser draw...    4.3  "
      ]
     },
     "metadata": {},
     "output_type": "display_data"
    },
    {
     "data": {
      "text/html": [
       "<div>\n",
       "<style scoped>\n",
       "    .dataframe tbody tr th:only-of-type {\n",
       "        vertical-align: middle;\n",
       "    }\n",
       "\n",
       "    .dataframe tbody tr th {\n",
       "        vertical-align: top;\n",
       "    }\n",
       "\n",
       "    .dataframe thead th {\n",
       "        text-align: right;\n",
       "    }\n",
       "</style>\n",
       "<table border=\"1\" class=\"dataframe\">\n",
       "  <thead>\n",
       "    <tr style=\"text-align: right;\">\n",
       "      <th></th>\n",
       "      <th>text</th>\n",
       "      <th>lyrics_predictions</th>\n",
       "      <th>score</th>\n",
       "    </tr>\n",
       "  </thead>\n",
       "  <tbody>\n",
       "    <tr>\n",
       "      <th>9</th>\n",
       "      <td>Spent a week on that proposal and it didn’t ev...</td>\n",
       "      <td>not submitted</td>\n",
       "      <td>0.0</td>\n",
       "    </tr>\n",
       "    <tr>\n",
       "      <th>15</th>\n",
       "      <td>Got home drenched from the rain and found a th...</td>\n",
       "      <td>jai bu un th i drank some tea taqqalahi tisnan...</td>\n",
       "      <td>0.0</td>\n",
       "    </tr>\n",
       "    <tr>\n",
       "      <th>14</th>\n",
       "      <td>Someone knocked on the door at midnight and th...</td>\n",
       "      <td>i ve been waiting for some time cause tonight ...</td>\n",
       "      <td>0.0</td>\n",
       "    </tr>\n",
       "    <tr>\n",
       "      <th>35</th>\n",
       "      <td>All morning I’ve been day-dreaming about escap...</td>\n",
       "      <td>lions in the street and roaming dogs in heat r...</td>\n",
       "      <td>0.0</td>\n",
       "    </tr>\n",
       "    <tr>\n",
       "      <th>50</th>\n",
       "      <td>The lights flicked back on as soon as the stor...</td>\n",
       "      <td>alighted</td>\n",
       "      <td>0.0</td>\n",
       "    </tr>\n",
       "  </tbody>\n",
       "</table>\n",
       "</div>"
      ],
      "text/plain": [
       "                                                 text  \\\n",
       "9   Spent a week on that proposal and it didn’t ev...   \n",
       "15  Got home drenched from the rain and found a th...   \n",
       "14  Someone knocked on the door at midnight and th...   \n",
       "35  All morning I’ve been day-dreaming about escap...   \n",
       "50  The lights flicked back on as soon as the stor...   \n",
       "\n",
       "                                   lyrics_predictions  score  \n",
       "9                                       not submitted    0.0  \n",
       "15  jai bu un th i drank some tea taqqalahi tisnan...    0.0  \n",
       "14  i ve been waiting for some time cause tonight ...    0.0  \n",
       "35  lions in the street and roaming dogs in heat r...    0.0  \n",
       "50                                           alighted    0.0  "
      ]
     },
     "metadata": {},
     "output_type": "display_data"
    }
   ],
   "source": [
    "stats = df_not_filtered[[\n",
    "    \"emotional\",\"contextual\",\"coherence\",\"overall\"\n",
    "]].describe().round(2)\n",
    "display(stats)\n",
    "\n",
    "\n",
    "plt.figure(figsize=(10, 4))\n",
    "\n",
    "# Histograma de puntajes globales\n",
    "plt.subplot(1, 2, 1)\n",
    "df_not_filtered[\"overall\"].hist(bins=11)\n",
    "plt.title(\"Distribución de puntajes ‘overall’\")\n",
    "plt.xlabel(\"Score (0-5)\")\n",
    "plt.ylabel(\"Frecuencia\")\n",
    "\n",
    "# Barra de promedios por criterio\n",
    "plt.subplot(1, 2, 2)\n",
    "(df_not_filtered[[\n",
    "    \"emotional\", \"contextual\", \"coherence\", \"overall\"\n",
    " ]].mean()\n",
    " ).plot(kind=\"bar\")\n",
    "plt.ylim(0, 5)\n",
    "plt.title(\"Promedio por criterio\")\n",
    "plt.xticks(rotation=45, ha=\"right\")\n",
    "plt.ylabel(\"Score (0-5)\")\n",
    "\n",
    "plt.tight_layout()\n",
    "plt.show()\n",
    "\n",
    "# Top y bottom 5 songs recommendations\n",
    "display(df_not_filtered.sort_values(\"overall\", ascending=False)\n",
    "          .head(5)[[\"text\", \"lyrics_predictions\", \"overall\"]]\n",
    "          .rename(columns={\"overall\": \"score\"}))\n",
    "\n",
    "display(df_not_filtered.sort_values(\"overall\", ascending=True)\n",
    "          .head(5)[[\"text\", \"lyrics_predictions\", \"overall\"]]\n",
    "          .rename(columns={\"overall\": \"score\"}))"
   ]
  }
 ],
 "metadata": {
  "kernelspec": {
   "display_name": "Python (env3)",
   "language": "python",
   "name": "env3"
  },
  "language_info": {
   "codemirror_mode": {
    "name": "ipython",
    "version": 3
   },
   "file_extension": ".py",
   "mimetype": "text/x-python",
   "name": "python",
   "nbconvert_exporter": "python",
   "pygments_lexer": "ipython3",
   "version": "3.13.2"
  }
 },
 "nbformat": 4,
 "nbformat_minor": 5
}
