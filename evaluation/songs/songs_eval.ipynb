{
 "cells": [
  {
   "cell_type": "code",
   "execution_count": 1,
   "id": "cb62989b",
   "metadata": {},
   "outputs": [
    {
     "name": "stderr",
     "output_type": "stream",
     "text": [
      "c:\\Users\\Lucio\\Documents\\entornos\\env3\\Lib\\site-packages\\tqdm\\auto.py:21: TqdmWarning: IProgress not found. Please update jupyter and ipywidgets. See https://ipywidgets.readthedocs.io/en/stable/user_install.html\n",
      "  from .autonotebook import tqdm as notebook_tqdm\n"
     ]
    }
   ],
   "source": [
    "import pandas as pd\n",
    "import asyncio\n",
    "import os\n",
    "import sys\n",
    "\n",
    "notebook_dir = os.getcwd()  \n",
    "\n",
    "emotions_dir   = os.path.abspath(os.path.join(notebook_dir, \"..\", \"..\", \"emotions\"))\n",
    "\n",
    "context_dir = os.path.abspath(os.path.join(notebook_dir, \"..\", \"..\", \"context\"))\n",
    "\n",
    "evaluation_dir = os.path.abspath(os.path.join(notebook_dir, \"..\"))\n",
    "\n",
    "sentiment_evaluation_dir = os.path.join(evaluation_dir, \"sentiment\")\n",
    "\n",
    "for d in (emotions_dir, context_dir, evaluation_dir, sentiment_evaluation_dir):\n",
    "    if d not in sys.path:\n",
    "        sys.path.insert(0, d)\n",
    "\n",
    "from song_evaluator import run_evaluation\n",
    "from emotions import emotions_labels\n",
    "from context import get_context_embedding\n",
    "from utils import get_emotional_embedding, get_lyrics"
   ]
  },
  {
   "cell_type": "code",
   "execution_count": 2,
   "id": "331cb8a7",
   "metadata": {},
   "outputs": [],
   "source": [
    "RESULTS_STORAGE_PATH = \"songs_results\"\n",
    "CSV_PROMPTS_PATH = \"../sentiment/eval_prompts.csv\"\n",
    "IDX = {lbl: i for i, lbl in enumerate(emotions_labels)}"
   ]
  },
  {
   "cell_type": "markdown",
   "id": "8a741df1",
   "metadata": {},
   "source": [
    "## Recomend songs"
   ]
  },
  {
   "cell_type": "code",
   "execution_count": null,
   "id": "16220162",
   "metadata": {},
   "outputs": [],
   "source": [
    "df = pd.read_csv(CSV_PROMPTS_PATH)\n",
    "\n",
    "df[\"emotional_embeddings\"] = df[\"text\"].apply(get_emotional_embedding)\n",
    "df[\"context_embeddings\"] = df[\"text\"].apply(get_context_embedding)\n",
    "print(df.head())"
   ]
  },
  {
   "cell_type": "code",
   "execution_count": null,
   "id": "5563b043",
   "metadata": {},
   "outputs": [],
   "source": [
    "df[\"lyrics_predictions\"] = df.apply(\n",
    "    lambda row: get_lyrics(\n",
    "        row[\"emotional_embeddings\"],\n",
    "        row[\"context_embeddings\"],\n",
    "        weight_emotion=0.4,\n",
    "        weight_context=0.6,\n",
    "    ),\n",
    "    axis=1,\n",
    ")"
   ]
  },
  {
   "cell_type": "code",
   "execution_count": null,
   "id": "40562de7",
   "metadata": {},
   "outputs": [],
   "source": [
    "#save df with text and predictions only\n",
    "df[[\"text\", \"lyrics_predictions\"]].to_csv(os.path.join(RESULTS_STORAGE_PATH, \"lyrics_predictions.csv\"), index=False)"
   ]
  },
  {
   "cell_type": "markdown",
   "id": "2e5939c8",
   "metadata": {},
   "source": [
    "## Evaluator"
   ]
  },
  {
   "cell_type": "code",
   "execution_count": 3,
   "id": "f684eccf",
   "metadata": {},
   "outputs": [],
   "source": [
    "path = os.path.join(RESULTS_STORAGE_PATH, \"lyrics_predictions.csv\")\n",
    "df = pd.read_csv(path)"
   ]
  },
  {
   "cell_type": "code",
   "execution_count": 4,
   "id": "84e2b6c5",
   "metadata": {},
   "outputs": [],
   "source": [
    "#save evaluated_df to obtain the scores\n",
    "evaluated_df = await run_evaluation(df)\n",
    "evaluated_df.to_csv(os.path.join(RESULTS_STORAGE_PATH, \"evaluated_lyrics_predictions.csv\"), index=False)"
   ]
  },
  {
   "cell_type": "markdown",
   "id": "a845d716",
   "metadata": {},
   "source": [
    "## Evaluation"
   ]
  },
  {
   "cell_type": "code",
   "execution_count": 5,
   "id": "ddfecb05",
   "metadata": {},
   "outputs": [],
   "source": [
    "path = os.path.join(RESULTS_STORAGE_PATH,  \"evaluated_lyrics_predictions.csv\")\n",
    "df = pd.read_csv(path)"
   ]
  },
  {
   "cell_type": "code",
   "execution_count": 7,
   "id": "0adb97d8",
   "metadata": {},
   "outputs": [
    {
     "name": "stdout",
     "output_type": "stream",
     "text": [
      "Filtered songs:  7\n",
      "Not filtered songs:  74\n"
     ]
    }
   ],
   "source": [
    "#Hay canciones que pueden no ser evaluadas por el filtro de contenido de OpenAI.\n",
    "df_filtered = df[df[\"rationale\"].str.contains(\"The song was filtered out by the content filter\")]\n",
    "df_not_filtered = df[~df[\"rationale\"].str.contains(\"The song was filtered out by the content filter\")]\n",
    "\n",
    "print(\"Filtered songs: \", len(df_filtered))\n",
    "print(\"Not filtered songs: \", len(df_not_filtered))"
   ]
  },
  {
   "cell_type": "code",
   "execution_count": 8,
   "id": "85e2846f",
   "metadata": {},
   "outputs": [
    {
     "data": {
      "text/html": [
       "<div>\n",
       "<style scoped>\n",
       "    .dataframe tbody tr th:only-of-type {\n",
       "        vertical-align: middle;\n",
       "    }\n",
       "\n",
       "    .dataframe tbody tr th {\n",
       "        vertical-align: top;\n",
       "    }\n",
       "\n",
       "    .dataframe thead th {\n",
       "        text-align: right;\n",
       "    }\n",
       "</style>\n",
       "<table border=\"1\" class=\"dataframe\">\n",
       "  <thead>\n",
       "    <tr style=\"text-align: right;\">\n",
       "      <th></th>\n",
       "      <th>emotional</th>\n",
       "      <th>contextual</th>\n",
       "      <th>coherence</th>\n",
       "      <th>overall</th>\n",
       "    </tr>\n",
       "  </thead>\n",
       "  <tbody>\n",
       "    <tr>\n",
       "      <th>count</th>\n",
       "      <td>74.00</td>\n",
       "      <td>74.00</td>\n",
       "      <td>74.00</td>\n",
       "      <td>74.00</td>\n",
       "    </tr>\n",
       "    <tr>\n",
       "      <th>mean</th>\n",
       "      <td>2.66</td>\n",
       "      <td>2.19</td>\n",
       "      <td>2.55</td>\n",
       "      <td>2.42</td>\n",
       "    </tr>\n",
       "    <tr>\n",
       "      <th>std</th>\n",
       "      <td>1.56</td>\n",
       "      <td>1.64</td>\n",
       "      <td>1.07</td>\n",
       "      <td>1.34</td>\n",
       "    </tr>\n",
       "    <tr>\n",
       "      <th>min</th>\n",
       "      <td>0.00</td>\n",
       "      <td>0.00</td>\n",
       "      <td>0.00</td>\n",
       "      <td>0.00</td>\n",
       "    </tr>\n",
       "    <tr>\n",
       "      <th>25%</th>\n",
       "      <td>1.00</td>\n",
       "      <td>1.00</td>\n",
       "      <td>2.00</td>\n",
       "      <td>1.00</td>\n",
       "    </tr>\n",
       "    <tr>\n",
       "      <th>50%</th>\n",
       "      <td>3.00</td>\n",
       "      <td>2.00</td>\n",
       "      <td>3.00</td>\n",
       "      <td>2.48</td>\n",
       "    </tr>\n",
       "    <tr>\n",
       "      <th>75%</th>\n",
       "      <td>4.00</td>\n",
       "      <td>4.00</td>\n",
       "      <td>3.00</td>\n",
       "      <td>3.70</td>\n",
       "    </tr>\n",
       "    <tr>\n",
       "      <th>max</th>\n",
       "      <td>5.00</td>\n",
       "      <td>5.00</td>\n",
       "      <td>5.00</td>\n",
       "      <td>4.70</td>\n",
       "    </tr>\n",
       "  </tbody>\n",
       "</table>\n",
       "</div>"
      ],
      "text/plain": [
       "       emotional  contextual  coherence  overall\n",
       "count      74.00       74.00      74.00    74.00\n",
       "mean        2.66        2.19       2.55     2.42\n",
       "std         1.56        1.64       1.07     1.34\n",
       "min         0.00        0.00       0.00     0.00\n",
       "25%         1.00        1.00       2.00     1.00\n",
       "50%         3.00        2.00       3.00     2.48\n",
       "75%         4.00        4.00       3.00     3.70\n",
       "max         5.00        5.00       5.00     4.70"
      ]
     },
     "metadata": {},
     "output_type": "display_data"
    },
    {
     "data": {
      "image/png": "[encoded data removed]",
      "text/plain": [
       "<Figure size 1000x400 with 2 Axes>"
      ]
     },
     "metadata": {},
     "output_type": "display_data"
    },
    {
     "data": {
      "text/html": [
       "<div>\n",
       "<style scoped>\n",
       "    .dataframe tbody tr th:only-of-type {\n",
       "        vertical-align: middle;\n",
       "    }\n",
       "\n",
       "    .dataframe tbody tr th {\n",
       "        vertical-align: top;\n",
       "    }\n",
       "\n",
       "    .dataframe thead th {\n",
       "        text-align: right;\n",
       "    }\n",
       "</style>\n",
       "<table border=\"1\" class=\"dataframe\">\n",
       "  <thead>\n",
       "    <tr style=\"text-align: right;\">\n",
       "      <th></th>\n",
       "      <th>text</th>\n",
       "      <th>lyrics_predictions</th>\n",
       "      <th>score</th>\n",
       "    </tr>\n",
       "  </thead>\n",
       "  <tbody>\n",
       "    <tr>\n",
       "      <th>16</th>\n",
       "      <td>Since my grandmother passed away, the house fe...</td>\n",
       "      <td>stop here across the street to your right that...</td>\n",
       "      <td>4.7</td>\n",
       "    </tr>\n",
       "    <tr>\n",
       "      <th>18</th>\n",
       "      <td>I adore you with all my heart.</td>\n",
       "      <td>in you i find my home completely known complet...</td>\n",
       "      <td>4.7</td>\n",
       "    </tr>\n",
       "    <tr>\n",
       "      <th>32</th>\n",
       "      <td>Take your coat; it's chilly and I don't want y...</td>\n",
       "      <td>put on your cap and your coat come on come on ...</td>\n",
       "      <td>4.3</td>\n",
       "    </tr>\n",
       "    <tr>\n",
       "      <th>67</th>\n",
       "      <td>I just found out my best friend is flying in f...</td>\n",
       "      <td>i got a big surprise when i saw you smile i ne...</td>\n",
       "      <td>4.3</td>\n",
       "    </tr>\n",
       "    <tr>\n",
       "      <th>76</th>\n",
       "      <td>I just found an old photo of my childhood home...</td>\n",
       "      <td>there s an old kodak camera in my dresser draw...</td>\n",
       "      <td>4.3</td>\n",
       "    </tr>\n",
       "  </tbody>\n",
       "</table>\n",
       "</div>"
      ],
      "text/plain": [
       "                                                 text  \\\n",
       "16  Since my grandmother passed away, the house fe...   \n",
       "18                     I adore you with all my heart.   \n",
       "32  Take your coat; it's chilly and I don't want y...   \n",
       "67  I just found out my best friend is flying in f...   \n",
       "76  I just found an old photo of my childhood home...   \n",
       "\n",
       "                                   lyrics_predictions  score  \n",
       "16  stop here across the street to your right that...    4.7  \n",
       "18  in you i find my home completely known complet...    4.7  \n",
       "32  put on your cap and your coat come on come on ...    4.3  \n",
       "67  i got a big surprise when i saw you smile i ne...    4.3  \n",
       "76  there s an old kodak camera in my dresser draw...    4.3  "
      ]
     },
     "metadata": {},
     "output_type": "display_data"
    },
    {
     "data": {
      "text/html": [
       "<div>\n",
       "<style scoped>\n",
       "    .dataframe tbody tr th:only-of-type {\n",
       "        vertical-align: middle;\n",
       "    }\n",
       "\n",
       "    .dataframe tbody tr th {\n",
       "        vertical-align: top;\n",
       "    }\n",
       "\n",
       "    .dataframe thead th {\n",
       "        text-align: right;\n",
       "    }\n",
       "</style>\n",
       "<table border=\"1\" class=\"dataframe\">\n",
       "  <thead>\n",
       "    <tr style=\"text-align: right;\">\n",
       "      <th></th>\n",
       "      <th>text</th>\n",
       "      <th>lyrics_predictions</th>\n",
       "      <th>score</th>\n",
       "    </tr>\n",
       "  </thead>\n",
       "  <tbody>\n",
       "    <tr>\n",
       "      <th>7</th>\n",
       "      <td>How do black holes really work?</td>\n",
       "      <td>my creator my creator my creator my creator ya...</td>\n",
       "      <td>0.00</td>\n",
       "    </tr>\n",
       "    <tr>\n",
       "      <th>11</th>\n",
       "      <td>The smell of rotten food was unbearable.</td>\n",
       "      <td>yeah yeah when i walk on by i smell like shit ...</td>\n",
       "      <td>0.00</td>\n",
       "    </tr>\n",
       "    <tr>\n",
       "      <th>28</th>\n",
       "      <td>Watching the penguin slide on its belly cracke...</td>\n",
       "      <td>i saw the creature fall into the swamp from wh...</td>\n",
       "      <td>0.00</td>\n",
       "    </tr>\n",
       "    <tr>\n",
       "      <th>37</th>\n",
       "      <td>Leaving dirty dishes in the sink overnight isn...</td>\n",
       "      <td>we cannot continue this unauthorized content u...</td>\n",
       "      <td>0.00</td>\n",
       "    </tr>\n",
       "    <tr>\n",
       "      <th>2</th>\n",
       "      <td>I can't believe you deleted all my work withou...</td>\n",
       "      <td>there s no one anywhere waiting for you i do n...</td>\n",
       "      <td>0.67</td>\n",
       "    </tr>\n",
       "  </tbody>\n",
       "</table>\n",
       "</div>"
      ],
      "text/plain": [
       "                                                 text  \\\n",
       "7                     How do black holes really work?   \n",
       "11           The smell of rotten food was unbearable.   \n",
       "28  Watching the penguin slide on its belly cracke...   \n",
       "37  Leaving dirty dishes in the sink overnight isn...   \n",
       "2   I can't believe you deleted all my work withou...   \n",
       "\n",
       "                                   lyrics_predictions  score  \n",
       "7   my creator my creator my creator my creator ya...   0.00  \n",
       "11  yeah yeah when i walk on by i smell like shit ...   0.00  \n",
       "28  i saw the creature fall into the swamp from wh...   0.00  \n",
       "37  we cannot continue this unauthorized content u...   0.00  \n",
       "2   there s no one anywhere waiting for you i do n...   0.67  "
      ]
     },
     "metadata": {},
     "output_type": "display_data"
    }
   ],
   "source": [
    "import matplotlib.pyplot as plt\n",
    "\n",
    "# 2. Muestra estadísticas descriptivas en pantalla\n",
    "stats = df_not_filtered[[\n",
    "    \"emotional\",\"contextual\",\"coherence\",\"overall\"\n",
    "]].describe().round(2)\n",
    "display(stats)          # En Jupyter se ve como tabla\n",
    "\n",
    "# 3. Crea una única figura con dos gráficos\n",
    "plt.figure(figsize=(10, 4))\n",
    "\n",
    "# 3-a Histograma de puntajes globales\n",
    "plt.subplot(1, 2, 1)\n",
    "df_not_filtered[\"overall\"].hist(bins=11)\n",
    "plt.title(\"Distribución de puntajes ‘overall’\")\n",
    "plt.xlabel(\"Score (0-5)\")\n",
    "plt.ylabel(\"Frecuencia\")\n",
    "\n",
    "# 3-b Barra de promedios por criterio\n",
    "plt.subplot(1, 2, 2)\n",
    "(df_not_filtered[[\n",
    "    \"emotional\", \"contextual\", \"coherence\", \"overall\"\n",
    " ]].mean()\n",
    " ).plot(kind=\"bar\")\n",
    "plt.ylim(0, 5)\n",
    "plt.title(\"Promedio por criterio\")\n",
    "plt.xticks(rotation=45, ha=\"right\")\n",
    "plt.ylabel(\"Score (0-5)\")\n",
    "\n",
    "plt.tight_layout()\n",
    "plt.show()\n",
    "\n",
    "# 4. Top y bottom 5 songs recommendations\n",
    "display(df_not_filtered.sort_values(\"overall\", ascending=False)\n",
    "          .head(5)[[\"text\", \"lyrics_predictions\", \"overall\"]]\n",
    "          .rename(columns={\"overall\": \"score\"}))\n",
    "\n",
    "display(df_not_filtered.sort_values(\"overall\", ascending=True)\n",
    "          .head(5)[[\"text\", \"lyrics_predictions\", \"overall\"]]\n",
    "          .rename(columns={\"overall\": \"score\"}))\n"
   ]
  }
 ],
 "metadata": {
  "kernelspec": {
   "display_name": "Python (env3)",
   "language": "python",
   "name": "env3"
  },
  "language_info": {
   "codemirror_mode": {
    "name": "ipython",
    "version": 3
   },
   "file_extension": ".py",
   "mimetype": "text/x-python",
   "name": "python",
   "nbconvert_exporter": "python",
   "pygments_lexer": "ipython3",
   "version": "3.13.2"
  }
 },
 "nbformat": 4,
 "nbformat_minor": 5
}
