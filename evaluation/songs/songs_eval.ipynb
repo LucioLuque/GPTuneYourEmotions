{
 "cells": [
  {
   "cell_type": "code",
   "execution_count": 1,
   "id": "cb62989b",
   "metadata": {},
   "outputs": [
    {
     "name": "stderr",
     "output_type": "stream",
     "text": [
      "c:\\Users\\Lucio\\Documents\\entornos\\env3\\Lib\\site-packages\\tqdm\\auto.py:21: TqdmWarning: IProgress not found. Please update jupyter and ipywidgets. See https://ipywidgets.readthedocs.io/en/stable/user_install.html\n",
      "  from .autonotebook import tqdm as notebook_tqdm\n"
     ]
    }
   ],
   "source": [
    "from sklearn.metrics import accuracy_score, confusion_matrix, classification_report\n",
    "import numpy as np\n",
    "import pandas as pd\n",
    "\n",
    "import os\n",
    "import sys\n",
    "\n",
    "\n",
    "notebook_dir = os.getcwd()  \n",
    "\n",
    "emotions_dir   = os.path.abspath(os.path.join(notebook_dir, \"..\", \"..\", \"emotions\"))\n",
    "\n",
    "evaluation_dir = os.path.abspath(os.path.join(notebook_dir, \"..\"))\n",
    "\n",
    "sentiment_evaluation_dir = os.path.join(evaluation_dir, \"sentiment\")\n",
    "\n",
    "for d in (emotions_dir, evaluation_dir, sentiment_evaluation_dir):\n",
    "    if d not in sys.path:\n",
    "        sys.path.insert(0, d)\n",
    "\n",
    "from emotions import emotions_labels\n",
    "from utils import predict_one, load_similarity_matrix, plot_confusion, get_emotional_embedding, get_lyrics"
   ]
  },
  {
   "cell_type": "code",
   "execution_count": 2,
   "id": "331cb8a7",
   "metadata": {},
   "outputs": [],
   "source": [
    "RESULTS_STORAGE_PATH = \"songs_results\"\n",
    "CSV_PROMPTS_PATH = \"../sentiment/eval_prompts.csv\"\n",
    "IDX = {lbl: i for i, lbl in enumerate(emotions_labels)}"
   ]
  },
  {
   "cell_type": "code",
   "execution_count": 3,
   "id": "16220162",
   "metadata": {},
   "outputs": [
    {
     "name": "stdout",
     "output_type": "stream",
     "text": [
      "                                                text       label  \\\n",
      "0  Your dedication to volunteering is truly inspi...  admiration   \n",
      "1  That joke about the cat wearing a tie made me ...   amusement   \n",
      "2  I can't believe you deleted all my work withou...       anger   \n",
      "3  That drill noise at seven in the morning again...   annoyance   \n",
      "4      Great job, that refactor turned out flawless.    approval   \n",
      "\n",
      "                                  prompts_embeddings  \n",
      "0  [2.9032712, -7.0063233, -6.7287602, -5.7194366...  \n",
      "1  [-4.209214, 1.814525, -6.571651, -5.4774857, -...  \n",
      "2  [-5.470647, -5.549503, -4.315584, -2.8082654, ...  \n",
      "3  [-5.1712584, -4.696749, -2.2264686, 1.3439618,...  \n",
      "4  [3.0325375, -6.4712825, -6.397105, -5.59647, -...  \n"
     ]
    }
   ],
   "source": [
    "df = pd.read_csv(CSV_PROMPTS_PATH)\n",
    "\n",
    "df[\"prompts_embeddings\"] = df[\"text\"].apply(get_emotional_embedding)\n",
    "print(df.head())"
   ]
  },
  {
   "cell_type": "code",
   "execution_count": 4,
   "id": "5563b043",
   "metadata": {},
   "outputs": [],
   "source": [
    "df[\"lyrics_predictions\"] = df[\"prompts_embeddings\"].apply(get_lyrics)"
   ]
  },
  {
   "cell_type": "code",
   "execution_count": 5,
   "id": "40562de7",
   "metadata": {},
   "outputs": [],
   "source": [
    "#save df with text and predictions only\n",
    "df[[\"text\", \"lyrics_predictions\"]].to_csv(os.path.join(RESULTS_STORAGE_PATH, \"lyrics_predictions.csv\"), index=False)"
   ]
  },
  {
   "cell_type": "markdown",
   "id": "2e5939c8",
   "metadata": {},
   "source": [
    "## HABRIA QUE VER DE PASARLE AL CHAT Y QUE DIGA SI TIENE SENTIDO LO QUE DEVOLVIO! O FIJARNOS NOSOTROS!"
   ]
  }
 ],
 "metadata": {
  "kernelspec": {
   "display_name": "Python (env3)",
   "language": "python",
   "name": "env3"
  },
  "language_info": {
   "codemirror_mode": {
    "name": "ipython",
    "version": 3
   },
   "file_extension": ".py",
   "mimetype": "text/x-python",
   "name": "python",
   "nbconvert_exporter": "python",
   "pygments_lexer": "ipython3",
   "version": "3.13.2"
  }
 },
 "nbformat": 4,
 "nbformat_minor": 5
}
