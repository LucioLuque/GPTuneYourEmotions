{
 "cells": [
  {
   "cell_type": "code",
   "execution_count": null,
   "id": "3778bd14",
   "metadata": {},
   "outputs": [],
   "source": [
    "from emotions.emotions import detect_user_emotions, get_playlist_ids\n",
    "\n",
    "emb1, _ = detect_user_emotions(prompt1, n=3)\n",
    "emb2, _ = detect_user_emotions(prompt2, n=3)\n",
    "song_ids = get_playlist_ids(\n",
    "    emb1, emb2, genres=[],          # u otro vector de géneros\n",
    "    k=5, selection=\"random\", m=10,\n",
    "    mode=\"interpolation\", n=4\n",
    ")"
   ]
  },
  {
   "cell_type": "code",
   "execution_count": null,
   "id": "54c02090",
   "metadata": {},
   "outputs": [],
   "source": [
    "import os, pandas as pd\n",
    "if not os.path.exists(\"results.parquet\"):\n",
    "    print(\"⛔ Run the evaluation cell first.\")\n",
    "else:\n",
    "    df = pd.read_parquet(\"results.parquet\")\n",
    "    display(df.head())\n"
   ]
  },
  {
   "cell_type": "code",
   "execution_count": null,
   "id": "83750e0f",
   "metadata": {},
   "outputs": [],
   "source": [
    "import pandas as pd, matplotlib.pyplot as plt\n",
    "df = pd.read_parquet(\"results.parquet\")\n",
    "\n",
    "# tabla ordenada\n",
    "df[[\"prompt_1\", \"prompt_2\", \"overall\"]].sort_values(\"overall\", ascending=False).head(10)\n",
    "\n",
    "# histograma rápido\n",
    "df[\"overall\"].hist(bins=11)\n",
    "plt.title(\"Distribución de puntuaciones generales\")\n",
    "plt.xlabel(\"score (0-5)\"); plt.ylabel(\"frecuencia\")\n",
    "plt.show()\n"
   ]
  }
 ],
 "metadata": {
  "language_info": {
   "name": "python"
  }
 },
 "nbformat": 4,
 "nbformat_minor": 5
}
